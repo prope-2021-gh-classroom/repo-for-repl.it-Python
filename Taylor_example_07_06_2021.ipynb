{
 "cells": [
  {
   "cell_type": "markdown",
   "id": "7e3408ce-4791-44c3-a6ff-cbd3bb0d828c",
   "metadata": {},
   "source": [
    "**Solución ejercicio aproximación con polinomios de Taylor**"
   ]
  },
  {
   "cell_type": "code",
   "execution_count": 1,
   "id": "9fa800d6-154b-4da5-ba80-7bb6f621c1ec",
   "metadata": {},
   "outputs": [],
   "source": [
    "import numpy as np\n",
    "import matplotlib.pyplot as plt"
   ]
  },
  {
   "cell_type": "code",
   "execution_count": 2,
   "id": "881c6b02-095b-4059-a60b-496cb2c056e0",
   "metadata": {},
   "outputs": [],
   "source": [
    "f = lambda x: 1/x "
   ]
  },
  {
   "cell_type": "code",
   "execution_count": 3,
   "id": "e88b879e-8a56-4d78-9a2a-774d74169599",
   "metadata": {},
   "outputs": [],
   "source": [
    "x0 = 1.5"
   ]
  },
  {
   "cell_type": "code",
   "execution_count": 4,
   "id": "01988c9d-d070-4a76-ae55-b90cc5da072c",
   "metadata": {},
   "outputs": [],
   "source": [
    "#forma funcional de los polinomios\n",
    "\n",
    "p0 = lambda x: 2/3\n",
    "\n",
    "p1 = lambda x: 2/3 - 1/x0**2*(x-x0)\n",
    "\n",
    "p2 = lambda x: 2/3 - 1/x0**2*(x-x0) + 1/x0**3*(x-x0)**2"
   ]
  },
  {
   "cell_type": "markdown",
   "id": "9c13298c-76fa-41ad-8cf9-3e6a3366c543",
   "metadata": {},
   "source": [
    "Evaluar polinomios:"
   ]
  },
  {
   "cell_type": "code",
   "execution_count": 5,
   "id": "efb12dca-505f-45f7-a85d-e3231e6c0032",
   "metadata": {},
   "outputs": [],
   "source": [
    "x = 1"
   ]
  },
  {
   "cell_type": "code",
   "execution_count": 6,
   "id": "b68f99ea-4a79-43b1-a55b-c442f932be26",
   "metadata": {},
   "outputs": [
    {
     "data": {
      "text/plain": [
       "0.6666666666666666"
      ]
     },
     "execution_count": 6,
     "metadata": {},
     "output_type": "execute_result"
    }
   ],
   "source": [
    "p0(x) #aprox"
   ]
  },
  {
   "cell_type": "code",
   "execution_count": 7,
   "id": "8bec3953-01dd-4dd8-8a3f-3d370dfd8d9f",
   "metadata": {},
   "outputs": [
    {
     "data": {
      "text/plain": [
       "0.8888888888888888"
      ]
     },
     "execution_count": 7,
     "metadata": {},
     "output_type": "execute_result"
    }
   ],
   "source": [
    "p1(x) #aprox"
   ]
  },
  {
   "cell_type": "code",
   "execution_count": 8,
   "id": "834643c2-520a-446d-acde-e1d09dad9366",
   "metadata": {},
   "outputs": [
    {
     "data": {
      "text/plain": [
       "0.9629629629629629"
      ]
     },
     "execution_count": 8,
     "metadata": {},
     "output_type": "execute_result"
    }
   ],
   "source": [
    "p2(x) #aprox"
   ]
  },
  {
   "cell_type": "code",
   "execution_count": 9,
   "id": "7699a0d8-4ea6-4782-9ca5-e5376c6f77b6",
   "metadata": {},
   "outputs": [
    {
     "data": {
      "text/plain": [
       "1.0"
      ]
     },
     "execution_count": 9,
     "metadata": {},
     "output_type": "execute_result"
    }
   ],
   "source": [
    "f(x) #objetivo"
   ]
  },
  {
   "cell_type": "markdown",
   "id": "9c30ba28-c317-4991-a76d-298ab143dded",
   "metadata": {},
   "source": [
    "Gráficas"
   ]
  },
  {
   "cell_type": "code",
   "execution_count": 13,
   "id": "23e568a9-45af-4d30-8c5a-86880dac9fe1",
   "metadata": {},
   "outputs": [],
   "source": [
    "x = np.linspace(1, 2, 100) #100 puntos equidistantes"
   ]
  },
  {
   "cell_type": "code",
   "execution_count": 14,
   "id": "27931b05-435a-42f4-810e-62717eeb73d0",
   "metadata": {},
   "outputs": [],
   "source": [
    "p0_eval = p0(x)"
   ]
  },
  {
   "cell_type": "code",
   "execution_count": 15,
   "id": "86b4b6dd-4be2-41f1-b60f-d4dd85023455",
   "metadata": {},
   "outputs": [
    {
     "data": {
      "text/plain": [
       "0.6666666666666666"
      ]
     },
     "execution_count": 15,
     "metadata": {},
     "output_type": "execute_result"
    }
   ],
   "source": [
    "p0_eval"
   ]
  },
  {
   "cell_type": "code",
   "execution_count": 16,
   "id": "70e99a14-1d88-4e78-96ee-72c91ae3fa4a",
   "metadata": {},
   "outputs": [],
   "source": [
    "p0_eval = p0_eval*np.ones(x.size)"
   ]
  },
  {
   "cell_type": "code",
   "execution_count": 18,
   "id": "bf2cf632-78b5-4a90-887e-b0f751f3d381",
   "metadata": {},
   "outputs": [],
   "source": [
    "p1_eval = p1(x)\n",
    "p2_eval = p2(x)"
   ]
  },
  {
   "cell_type": "code",
   "execution_count": 31,
   "id": "321f961c-52e3-4944-b916-64b1c40ec963",
   "metadata": {},
   "outputs": [],
   "source": [
    "common_point = (x0, f(x0))"
   ]
  },
  {
   "cell_type": "code",
   "execution_count": 32,
   "id": "7ace5c80-d97b-4c0f-b8d4-eea583593df4",
   "metadata": {},
   "outputs": [
    {
     "data": {
      "text/plain": [
       "(1.5, 0.6666666666666666)"
      ]
     },
     "execution_count": 32,
     "metadata": {},
     "output_type": "execute_result"
    }
   ],
   "source": [
    "common_point"
   ]
  },
  {
   "cell_type": "code",
   "execution_count": 33,
   "id": "e174ccab-bd33-4c80-b645-caa05b10c5fa",
   "metadata": {},
   "outputs": [
    {
     "data": {
      "image/png": "[encoded data removed]",
      "text/plain": [
       "<Figure size 432x288 with 1 Axes>"
      ]
     },
     "metadata": {
      "needs_background": "light"
     },
     "output_type": "display_data"
    }
   ],
   "source": [
    "plt.plot(x, p0_eval, x, p1_eval, x, p2_eval, x, f(x))\n",
    "plt.title(\"Ejemplo polinomios de Taylor\")\n",
    "plt.xlabel('x')\n",
    "plt.ylabel(\"Evaluación de polinomios\")\n",
    "plt.legend([\"Polinomio de grado 0\",\n",
    "            \"Polinomio de grado 1\",\n",
    "            \"Polinomio de grado 2\",\n",
    "            \"Función original\"])\n",
    "plt.scatter(common_point[0], common_point[1])\n",
    "plt.show()"
   ]
  },
  {
   "cell_type": "code",
   "execution_count": null,
   "id": "9ec2f0b0-7d82-4bf4-871b-417b73401e08",
   "metadata": {},
   "outputs": [],
   "source": []
  }
 ],
 "metadata": {
  "kernelspec": {
   "display_name": "Python 3",
   "language": "python",
   "name": "python3"
  },
  "language_info": {
   "codemirror_mode": {
    "name": "ipython",
    "version": 3
   },
   "file_extension": ".py",
   "mimetype": "text/x-python",
   "name": "python",
   "nbconvert_exporter": "python",
   "pygments_lexer": "ipython3",
   "version": "3.8.5"
  }
 },
 "nbformat": 4,
 "nbformat_minor": 5
}
